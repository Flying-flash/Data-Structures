{
  "nbformat": 4,
  "nbformat_minor": 0,
  "metadata": {
    "colab": {
      "name": "Untitled0.ipynb",
      "provenance": [],
      "authorship_tag": "ABX9TyPwAf8n4G4oS3m3kg50Ldki",
      "include_colab_link": true
    },
    "kernelspec": {
      "name": "python3",
      "display_name": "Python 3"
    },
    "language_info": {
      "name": "python"
    },
    "accelerator": "GPU"
  },
  "cells": [
    {
      "cell_type": "markdown",
      "metadata": {
        "id": "view-in-github",
        "colab_type": "text"
      },
      "source": [
        "<a href=\"https://colab.research.google.com/github/Flying-flash/Data-Structures/blob/main/Basics%20of%20python.ipynb\" target=\"_parent\"><img src=\"https://colab.research.google.com/assets/colab-badge.svg\" alt=\"Open In Colab\"/></a>"
      ]
    },
    {
      "cell_type": "code",
      "metadata": {
        "id": "X7Eh1MwmsYSl"
      },
      "source": [
        "g = ['I', 'am', 'number', 1, 'superstar']"
      ],
      "execution_count": 40,
      "outputs": []
    },
    {
      "cell_type": "code",
      "metadata": {
        "id": "grj5538jsdP5"
      },
      "source": [
        "h = ' '.join(map(str,g))"
      ],
      "execution_count": 41,
      "outputs": []
    },
    {
      "cell_type": "code",
      "metadata": {
        "id": "hFjjGa8rsog-"
      },
      "source": [
        "i =list(h)"
      ],
      "execution_count": 42,
      "outputs": []
    },
    {
      "cell_type": "code",
      "metadata": {
        "colab": {
          "base_uri": "https://localhost:8080/",
          "height": 35
        },
        "id": "2SrHZqzdspP_",
        "outputId": "c78f431c-0c8a-42b0-c20e-0d68835679de"
      },
      "source": [
        "' '.join(i)"
      ],
      "execution_count": 25,
      "outputs": [
        {
          "output_type": "execute_result",
          "data": {
            "application/vnd.google.colaboratory.intrinsic+json": {
              "type": "string"
            },
            "text/plain": [
              "'I   a m   n u m b e r   1   s u p e r s t a r'"
            ]
          },
          "metadata": {},
          "execution_count": 25
        }
      ]
    },
    {
      "cell_type": "code",
      "metadata": {
        "colab": {
          "base_uri": "https://localhost:8080/",
          "height": 35
        },
        "id": "5PFaQGv0suDC",
        "outputId": "b7e400df-7da4-4993-e0e2-2d7bada440b3"
      },
      "source": [
        "h"
      ],
      "execution_count": 27,
      "outputs": [
        {
          "output_type": "execute_result",
          "data": {
            "application/vnd.google.colaboratory.intrinsic+json": {
              "type": "string"
            },
            "text/plain": [
              "'I am number 1 superstar'"
            ]
          },
          "metadata": {},
          "execution_count": 27
        }
      ]
    },
    {
      "cell_type": "code",
      "metadata": {
        "id": "h03A1JaBtNa4"
      },
      "source": [
        "#method to use function on each and every element of the list"
      ],
      "execution_count": 10,
      "outputs": []
    },
    {
      "cell_type": "code",
      "metadata": {
        "id": "rXwMs5EuOzun"
      },
      "source": [
        "def addition(n):\n",
        "    return n+n"
      ],
      "execution_count": 2,
      "outputs": []
    },
    {
      "cell_type": "code",
      "metadata": {
        "id": "_P0zR198O2Nq"
      },
      "source": [
        "a = addition(4)"
      ],
      "execution_count": 3,
      "outputs": []
    },
    {
      "cell_type": "code",
      "metadata": {
        "id": "Q8jGmQvFPDKR"
      },
      "source": [
        "c = [2,3,4]"
      ],
      "execution_count": 6,
      "outputs": []
    },
    {
      "cell_type": "code",
      "metadata": {
        "id": "wQTvBm3qPF7V"
      },
      "source": [
        "d = map(addition,c)"
      ],
      "execution_count": 7,
      "outputs": []
    },
    {
      "cell_type": "code",
      "metadata": {
        "colab": {
          "base_uri": "https://localhost:8080/"
        },
        "id": "BF6C5hMTPJ-4",
        "outputId": "a7f58432-809f-4e87-96a6-caf18d22d1ce"
      },
      "source": [
        "list(d)"
      ],
      "execution_count": 9,
      "outputs": [
        {
          "output_type": "execute_result",
          "data": {
            "text/plain": [
              "[4, 6, 8]"
            ]
          },
          "metadata": {},
          "execution_count": 9
        }
      ]
    },
    {
      "cell_type": "code",
      "metadata": {
        "id": "9WtxjXcVPKkD"
      },
      "source": [
        "#Different Methods to join strings and numbers"
      ],
      "execution_count": 11,
      "outputs": []
    },
    {
      "cell_type": "code",
      "metadata": {
        "id": "XRHkS5K8PbaB"
      },
      "source": [
        "d = \"abc\""
      ],
      "execution_count": 12,
      "outputs": []
    },
    {
      "cell_type": "code",
      "metadata": {
        "colab": {
          "base_uri": "https://localhost:8080/"
        },
        "id": "a2s9oyiKPhPn",
        "outputId": "0559e0c0-a693-4512-e93f-4c3891dd0200"
      },
      "source": [
        "list(d) # to convert string into list"
      ],
      "execution_count": 13,
      "outputs": [
        {
          "output_type": "execute_result",
          "data": {
            "text/plain": [
              "['a', 'b', 'c']"
            ]
          },
          "metadata": {},
          "execution_count": 13
        }
      ]
    },
    {
      "cell_type": "code",
      "metadata": {
        "id": "GyAdPZ7QPiF_"
      },
      "source": [
        "e = [\"I\", \"am\", \"a\", \"superstar\"]"
      ],
      "execution_count": 14,
      "outputs": []
    },
    {
      "cell_type": "code",
      "metadata": {
        "colab": {
          "base_uri": "https://localhost:8080/",
          "height": 35
        },
        "id": "NHQBP-dqP_gT",
        "outputId": "f25ccee2-dd1c-4e56-950b-b45ccc6a4359"
      },
      "source": [
        "str(e) # converted list of strings into a string but we want the strings inside the list to be converted into a list"
      ],
      "execution_count": 18,
      "outputs": [
        {
          "output_type": "execute_result",
          "data": {
            "application/vnd.google.colaboratory.intrinsic+json": {
              "type": "string"
            },
            "text/plain": [
              "\"['I', 'am', 'a', 'superstar']\""
            ]
          },
          "metadata": {},
          "execution_count": 18
        }
      ]
    },
    {
      "cell_type": "code",
      "metadata": {
        "colab": {
          "base_uri": "https://localhost:8080/",
          "height": 35
        },
        "id": "UVOvA93bQA_7",
        "outputId": "738d85bf-381a-4b2a-f9af-58ae22c8fe0d"
      },
      "source": [
        "' '.join(e) # to convert the strings inside the list into a statement (The resultant statement is also one whole string)"
      ],
      "execution_count": 20,
      "outputs": [
        {
          "output_type": "execute_result",
          "data": {
            "application/vnd.google.colaboratory.intrinsic+json": {
              "type": "string"
            },
            "text/plain": [
              "'I am a superstar'"
            ]
          },
          "metadata": {},
          "execution_count": 20
        }
      ]
    },
    {
      "cell_type": "code",
      "metadata": {
        "id": "NHcVEDX5Qnth"
      },
      "source": [
        "e = [\"I\", \"am\", \"number\",1, \"superstar\"]"
      ],
      "execution_count": 37,
      "outputs": []
    },
    {
      "cell_type": "code",
      "metadata": {
        "colab": {
          "base_uri": "https://localhost:8080/",
          "height": 35
        },
        "id": "c4_81I6VRPuP",
        "outputId": "787a296f-e3fe-4f93-d473-bafb103ca813"
      },
      "source": [
        "' '.join([str(i) for i in e]) # as the string contains number and characters we need to convert the contents(both numberical and strings) into string"
      ],
      "execution_count": 23,
      "outputs": [
        {
          "output_type": "execute_result",
          "data": {
            "application/vnd.google.colaboratory.intrinsic+json": {
              "type": "string"
            },
            "text/plain": [
              "'I am number 1 superstar'"
            ]
          },
          "metadata": {},
          "execution_count": 23
        }
      ]
    },
    {
      "cell_type": "code",
      "metadata": {
        "id": "uNJO0DYuRSTE"
      },
      "source": [
        "f = ' '.join(map(str,e)) # joing a mixed list using map function"
      ],
      "execution_count": 51,
      "outputs": []
    },
    {
      "cell_type": "code",
      "metadata": {
        "id": "VSC299OBRvZ7"
      },
      "source": [
        "fi =list(f)"
      ],
      "execution_count": 52,
      "outputs": []
    },
    {
      "cell_type": "code",
      "metadata": {
        "id": "-pMhYjQaR1S7"
      },
      "source": [
        "g = ' '.join(fi)"
      ],
      "execution_count": 53,
      "outputs": []
    },
    {
      "cell_type": "code",
      "metadata": {
        "colab": {
          "base_uri": "https://localhost:8080/",
          "height": 35
        },
        "id": "nXrpJKCiSrUB",
        "outputId": "38d3650d-45c0-4e04-ef0f-f2cd56e82b24"
      },
      "source": [
        "g"
      ],
      "execution_count": 57,
      "outputs": [
        {
          "output_type": "execute_result",
          "data": {
            "application/vnd.google.colaboratory.intrinsic+json": {
              "type": "string"
            },
            "text/plain": [
              "'I   a m   n u m b e r   1   s u p e r s t a r'"
            ]
          },
          "metadata": {},
          "execution_count": 57
        }
      ]
    },
    {
      "cell_type": "code",
      "metadata": {
        "colab": {
          "base_uri": "https://localhost:8080/",
          "height": 35
        },
        "id": "0QPEnUL7Sr4l",
        "outputId": "9a6c5f25-1d8e-49b4-a674-99c010d7562a"
      },
      "source": [
        "op= \"I am a superstar\"\n",
        "a = list(op)\n",
        "' '.join(a) # join joins each element in the list with a seperation between them"
      ],
      "execution_count": 60,
      "outputs": [
        {
          "output_type": "execute_result",
          "data": {
            "application/vnd.google.colaboratory.intrinsic+json": {
              "type": "string"
            },
            "text/plain": [
              "'I   a m   a   s u p e r s t a r'"
            ]
          },
          "metadata": {},
          "execution_count": 60
        }
      ]
    },
    {
      "cell_type": "code",
      "metadata": {
        "colab": {
          "base_uri": "https://localhost:8080/"
        },
        "id": "XYuARAuYTUK8",
        "outputId": "7b876f36-8f68-43f1-c00c-efa9c29148f1"
      },
      "source": [
        "#to access elements in the list\n",
        "a =[1,2,3,4,5,6,7,8,9]\n",
        "for i in a:\n",
        "  print(i)"
      ],
      "execution_count": 61,
      "outputs": [
        {
          "output_type": "stream",
          "name": "stdout",
          "text": [
            "1\n",
            "2\n",
            "3\n",
            "4\n",
            "5\n",
            "6\n",
            "7\n",
            "8\n",
            "9\n"
          ]
        }
      ]
    },
    {
      "cell_type": "code",
      "metadata": {
        "colab": {
          "base_uri": "https://localhost:8080/"
        },
        "id": "uey93PR9UCMu",
        "outputId": "7d946d71-43e5-4092-d2a0-a35146eb99fc"
      },
      "source": [
        "#to access index in the list\n",
        "for i in range(len(a)):\n",
        "  print(i)"
      ],
      "execution_count": 62,
      "outputs": [
        {
          "output_type": "stream",
          "name": "stdout",
          "text": [
            "0\n",
            "1\n",
            "2\n",
            "3\n",
            "4\n",
            "5\n",
            "6\n",
            "7\n",
            "8\n"
          ]
        }
      ]
    },
    {
      "cell_type": "code",
      "metadata": {
        "id": "cKPhcAt4UJNy"
      },
      "source": [
        ""
      ],
      "execution_count": null,
      "outputs": []
    }
  ]
}