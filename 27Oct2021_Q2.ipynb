{
  "nbformat": 4,
  "nbformat_minor": 0,
  "metadata": {
    "colab": {
      "name": "Untitled3.ipynb",
      "provenance": [],
      "authorship_tag": "ABX9TyPKjOZ4BI6fXaCGlxFo+gSa",
      "include_colab_link": true
    },
    "kernelspec": {
      "name": "python3",
      "display_name": "Python 3"
    },
    "language_info": {
      "name": "python"
    }
  },
  "cells": [
    {
      "cell_type": "markdown",
      "metadata": {
        "id": "view-in-github",
        "colab_type": "text"
      },
      "source": [
        "<a href=\"https://colab.research.google.com/github/Flying-flash/Data-Structures/blob/main/27Oct2021_Q2.ipynb\" target=\"_parent\"><img src=\"https://colab.research.google.com/assets/colab-badge.svg\" alt=\"Open In Colab\"/></a>"
      ]
    },
    {
      "cell_type": "code",
      "metadata": {
        "colab": {
          "base_uri": "https://localhost:8080/",
          "height": 52
        },
        "id": "SaTZ3oGMUj5b",
        "outputId": "62a6e139-0722-4ab3-e41b-736375a2503d"
      },
      "source": [
        "'''Given an array of integers of size ‘n’.\n",
        "Our aim is to calculate the maximum sum of ‘k’ \n",
        "consecutive elements in the array.\n",
        "  Input  : arr[] = {100, 200, 300, 400}\n",
        "         k = 2\n",
        "  Output : 700\n",
        "    '''"
      ],
      "execution_count": 71,
      "outputs": [
        {
          "output_type": "execute_result",
          "data": {
            "application/vnd.google.colaboratory.intrinsic+json": {
              "type": "string"
            },
            "text/plain": [
              "'Given an array of integers of size ‘n’.\\nOur aim is to calculate the maximum sum of ‘k’ \\nconsecutive elements in the array.\\n  Input  : arr[] = {100, 200, 300, 400}\\n         k = 2\\n  Output : 700\\n    '"
            ]
          },
          "metadata": {},
          "execution_count": 71
        }
      ]
    },
    {
      "cell_type": "code",
      "metadata": {
        "id": "EMMWp72cVRuE"
      },
      "source": [
        "def averages(J,p):\n",
        "  n = len(J)\n",
        "  max_avg = -1\n",
        "  min_avg = 9999999\n",
        "\n",
        "  for i in range(n-p+1):\n",
        "    avg = 0\n",
        "    for j in range(p):\n",
        "      avg = avg + (J[i+j])\n",
        "    max_avg = max(max_avg, avg)\n",
        "    min_avg = min(min_avg, avg)\n",
        "  \n",
        "  return max_avg, min_avg\n",
        "\n",
        "#Time complexity O(p*n)\n"
      ],
      "execution_count": 72,
      "outputs": []
    },
    {
      "cell_type": "code",
      "metadata": {
        "id": "ZyFIMVOnnLI4"
      },
      "source": [
        "a, b = averages([100, 200, 300, 400],2)"
      ],
      "execution_count": 73,
      "outputs": []
    },
    {
      "cell_type": "code",
      "metadata": {
        "colab": {
          "base_uri": "https://localhost:8080/"
        },
        "id": "sZGjVe2aoo5J",
        "outputId": "c7a3fa1a-977e-4986-9e93-0cf2dfc5da87"
      },
      "source": [
        "print(f'The minimum sum of the sequences is {b}, and the maximum sum of the sequences is {a}')"
      ],
      "execution_count": 74,
      "outputs": [
        {
          "output_type": "stream",
          "name": "stdout",
          "text": [
            "The minimum sum of the sequences is 300, and the maximum sum of the sequences is 700\n"
          ]
        }
      ]
    },
    {
      "cell_type": "code",
      "metadata": {
        "id": "ptfA2xp_oqFs"
      },
      "source": [
        "# using sliding window\n",
        "def sliding_average(J,p):\n",
        "\n",
        " n = len(J)\n",
        " max_avg = -1\n",
        " min_avg = 9999999\n",
        " avg1 = 0\n",
        " i = 0\n",
        " j = p-1\n",
        " q = 0\n",
        " \n",
        " while(q < n-p+1):\n",
        "   subarr = J[i:j+1]\n",
        "   avg1 = sum(subarr)\n",
        "   min_avg = min(avg1, min_avg)\n",
        "   max_avg = max(avg1, max_avg)\n",
        "   i= i+1\n",
        "   j= j+1\n",
        "   q= q+1\n",
        "  \n",
        " return min_avg, max_avg\n",
        "\n"
      ],
      "execution_count": 75,
      "outputs": []
    },
    {
      "cell_type": "code",
      "metadata": {
        "colab": {
          "base_uri": "https://localhost:8080/"
        },
        "id": "BEX2k9uhsNBK",
        "outputId": "86b0a982-162f-48ca-d930-420b901fb2c5"
      },
      "source": [
        "print(sliding_average([100, 200, 300, 400],2))"
      ],
      "execution_count": 78,
      "outputs": [
        {
          "output_type": "stream",
          "name": "stdout",
          "text": [
            "(300, 700)\n"
          ]
        }
      ]
    },
    {
      "cell_type": "code",
      "metadata": {
        "id": "UazyecCQ7H-B"
      },
      "source": [
        ""
      ],
      "execution_count": null,
      "outputs": []
    }
  ]
}